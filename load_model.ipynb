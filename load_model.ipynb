{
 "cells": [
  {
   "cell_type": "code",
   "execution_count": 2,
   "metadata": {},
   "outputs": [],
   "source": [
    "import torch"
   ]
  },
  {
   "cell_type": "code",
   "execution_count": 3,
   "metadata": {},
   "outputs": [],
   "source": [
    "# Load the model\n",
    "model = torch.load('Neuro-GPT/pretrained_model/pytorch_model.bin', map_location=torch.device('cpu'))"
   ]
  },
  {
   "cell_type": "code",
   "execution_count": 4,
   "metadata": {},
   "outputs": [
    {
     "ename": "AttributeError",
     "evalue": "'collections.OrderedDict' object has no attribute 'forward'",
     "output_type": "error",
     "traceback": [
      "\u001b[0;31m---------------------------------------------------------------------------\u001b[0m",
      "\u001b[0;31mAttributeError\u001b[0m                            Traceback (most recent call last)",
      "Cell \u001b[0;32mIn[4], line 1\u001b[0m\n\u001b[0;32m----> 1\u001b[0m \u001b[43mmodel\u001b[49m\u001b[38;5;241;43m.\u001b[39;49m\u001b[43mforward\u001b[49m\n",
      "\u001b[0;31mAttributeError\u001b[0m: 'collections.OrderedDict' object has no attribute 'forward'"
     ]
    }
   ],
   "source": [
    "model.forward"
   ]
  },
  {
   "cell_type": "code",
   "execution_count": 13,
   "metadata": {},
   "outputs": [
    {
     "name": "stdout",
     "output_type": "stream",
     "text": [
      "First Layer Analysis:\n",
      "Input Channels: 1\n",
      "Output Channels: 40\n",
      "Kernel Size: 1x25\n"
     ]
    }
   ],
   "source": [
    "def analyze_input_layer(state_dict):\n",
    "    # Get the first convolutional layer weights\n",
    "    first_layer_weight = state_dict['encoder.patch_embedding.shallownet.0.weight']\n",
    "    \n",
    "    # Extract key dimensions\n",
    "    out_channels, in_channels, kernel_height, kernel_width = first_layer_weight.shape\n",
    "    \n",
    "    print(f\"First Layer Analysis:\")\n",
    "    print(f\"Input Channels: {in_channels}\")\n",
    "    print(f\"Output Channels: {out_channels}\")\n",
    "    print(f\"Kernel Size: {kernel_height}x{kernel_width}\")\n",
    "    \n",
    "    return {\n",
    "        'in_channels': in_channels,\n",
    "        'out_channels': out_channels,\n",
    "        'kernel_size': (kernel_height, kernel_width)\n",
    "    }\n",
    "\n",
    "# Analyze the model\n",
    "dims = analyze_input_layer(model)"
   ]
  },
  {
   "cell_type": "code",
   "execution_count": 14,
   "metadata": {},
   "outputs": [
    {
     "name": "stdout",
     "output_type": "stream",
     "text": [
      "First Layer Analysis:\n",
      "Input Channels: 1\n",
      "Output Channels: 40\n",
      "Kernel Size: 1x25\n"
     ]
    },
    {
     "data": {
      "text/plain": [
       "{'in_channels': 1, 'out_channels': 40, 'kernel_size': (1, 25)}"
      ]
     },
     "execution_count": 14,
     "metadata": {},
     "output_type": "execute_result"
    }
   ],
   "source": [
    "analyze_input_layer(model)\n"
   ]
  }
 ],
 "metadata": {
  "kernelspec": {
   "display_name": "UKB",
   "language": "python",
   "name": "python3"
  },
  "language_info": {
   "codemirror_mode": {
    "name": "ipython",
    "version": 3
   },
   "file_extension": ".py",
   "mimetype": "text/x-python",
   "name": "python",
   "nbconvert_exporter": "python",
   "pygments_lexer": "ipython3",
   "version": "3.12.7"
  }
 },
 "nbformat": 4,
 "nbformat_minor": 2
}
